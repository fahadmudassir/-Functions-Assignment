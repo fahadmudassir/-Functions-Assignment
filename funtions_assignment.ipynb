{
  "nbformat": 4,
  "nbformat_minor": 0,
  "metadata": {
    "colab": {
      "provenance": []
    },
    "kernelspec": {
      "name": "python3",
      "display_name": "Python 3"
    },
    "language_info": {
      "name": "python"
    }
  },
  "cells": [
    {
      "cell_type": "code",
      "execution_count": null,
      "metadata": {
        "id": "fRWNoRo_qZrr"
      },
      "outputs": [],
      "source": []
    },
    {
      "cell_type": "markdown",
      "source": [
        "1... What is the difference between a function and a method in Python?\n",
        "\n",
        "Functions are independent blocks of code that can be called from anywhere, whereas methods\n",
        "are tied to objects or classes and need an object or class instance to be invoked.\n",
        " Example of Function: # Defining a function def add_num(a,b): return a+b # Calling a function\n",
        "add_num(3,5) #output:8\n",
        "Example of method:\n",
        "# *Defining a class with method*\n",
        "class calculator:\n",
        "def add(self,a,b):\n",
        "return a+b\n",
        "calc = calculator()\n",
        "result = calc.add(3,5)\n",
        "print(result)\n",
        "* #output*:8\n",
        "\n",
        " 2...Explain the concept of function arguments and parameters in Python.??\n",
        "\n",
        " Function arguments are values that you provide to a function when you call it. These arguments\n",
        "can be used by the function to perform specific tasks. A parameter is the variable\n",
        "defined within the parentheses when we declare a function. Example - # function to find\n",
        "square of a number def square(a): # where ‘a’ is parameter return a**2 square(6) # where\n",
        "6 is an argument * #output* 36\n",
        "\n",
        "\n",
        "3. What are the different ways to define and call a function in Python?\n",
        "\n",
        "1. Basic function definition and call:- This is the most common way to define and call a function.\n",
        "Example- # Function definition def greets(): print(“Hello”) # Function call greets()\n",
        "* #Output*\n",
        "Hello\n",
        "\n",
        "2. Function with arguments:- Example - #Function call def sum (a,b): return a+b * # Function\n",
        "call*\n",
        "sum(4,6)\n",
        "*#output*\n",
        "10\n",
        "\n",
        "3. Function with variable length arguments:- Variable length arguments refer to the ability\n",
        "of function to accept variable number of parameters. Example- #Function definition defsum1(*args): sum = 0 for i in args: s = s+i return s # Function call sum1(1,4,7)\n",
        "# output\n",
        "12\n",
        "4. Lambda function :- These are small anonymous function defined by using lambda keyword.\n",
        "Example- square_lambda = lambda x: x**2 square_lambda(3)\n",
        "* #output* 9\n",
        "\n",
        "4. What is the purpose of the `return` statement in a Python function?\n",
        "\n",
        "\n",
        "The purpose of the ‘return’ statement in a python function to give the output of a function\n",
        "by ending the execution of the function call. Example - def func(): calc = 2+3+65 return\n",
        "calc func()\n",
        " # output* 35\n",
        " 5. What are iterators in Python and how do they differ from iterables?\n",
        "\n",
        " Iterators in python are an object representing a stream of data and return the data one by one. They are differ from iterables as an iterable is basically an object that any user can iterate over.\n",
        "\n",
        "  Every iterator is basically iterable but not vice-versa.\n",
        "  Example- s =“book” #\n",
        "string is iterable a = iter(s) # iterator object next(a) ‘b’ next(a) ‘o’ next(a) ‘o’ next(a) ‘k’\n",
        "\n",
        "6. Explain the concept of generators in Python and how they are defined. ??\n",
        "\n",
        "Generator functions in python are a way to create iterators in a more concise and memomryefficient manner. These functions allow you to iterate over a potentially large sequence of data without loading the entire sequence into memory. Here , instead of using return to send\n",
        "a value back to the caller, generator function uses ‘yield’. def pw_generator(): yield 1 yield 2\n",
        "\n",
        "# using the generator generator = pw_generator()\n",
        "print(next(generator)) *# output1*\n",
        "print(next(generator)) *#output2*\n",
        "Example- def countdown(n): while n>0: yield n n -= 1\n",
        "\n",
        "# using the generator for a countdown\n",
        "countdown_gen = countdown(5)\n",
        "for number in countdown_gen:\n",
        "print(number)\n",
        "# output : 5,4,3,2,1\n",
        "\n",
        "7) What are advantages of using generators over regular functions ??\n",
        "\n",
        "The advantages of using generators over regular functions is that the generators use ‘yield’\n",
        "keyword to produce a series of values over time , one at a time , rather than returning a\n",
        "single result which helps in usage of memory will be less. Example - # Execution by regular\n",
        "function def square_number(n): result =[] for i in range(n): result.append(i**2) return result\n",
        "square_number(10) # output: [1,4,9,16,25,36,49,64,81]\n",
        "*# Execution by generator function *\n",
        "def square_number_generators(n):\n",
        "for i in range(n):\n",
        "yield i**2\n",
        "gen = square_number_generators(10)\n",
        "next(gen) # output:1\n",
        "next(gen # output:4\n",
        "next(gen) # output :81\n",
        "\n",
        "8. What is a lambda function in Python and when is it typically used?\n",
        "\n",
        "A lambda function in python is a concise way to create anonymous functions, also known\n",
        "as lambda expressions. Lambda functions are often used for short- term operations and are\n",
        "defined in a single line. Example - add = lambda x,y:x+y result = add(5,6) print(result)\n",
        "#output:11\n",
        "\n",
        "9. Explain the purpose and usage of the `map()` function in Python.??\n",
        "\n",
        "The purpose and usage of the ‘map()’ function in python is to execute a specified function\n",
        "for each item in an ‘iterable’ and the item is sent to the function as a parameter. It starts\n",
        "by applying the function to the first items , then second items and so on. Example- num\n",
        "= [1,2,3,4] square_num = list(map(lambda x:x**2,num)) print(square_num) #output\n",
        ": [1,4,9,15]\n",
        "\n",
        "10. What is the difference between `map()`, `reduce()`, and `filter()` functions in Python?\n",
        "\n",
        "The differnce between ‘map()’ , ‘reduce()’ and ‘filter()’ functions in python are-\n",
        "• Map() - Executes a specified function for each of item of an iterable. Example:\n",
        "num_as_strings = [“2”,“4”,“6”,“8”] num_as_integers = list(map(int,num_as_strings))\n",
        "print(num_as_integers) #output: [2,4,6,8]\n",
        "• Reduce() - It implements a mathematical technique commonly known as ‘folding’ or ‘reduction’.\n",
        "It is a process where you reduce a list of items to a single value( cumulative value). Example:\n",
        "from functools import reduce num = [1,2,3,4] total_sum = reduce(lambda( x,y:x+y,\n",
        "num)) print(total_sum) #output: 10\n",
        "• Filter() - It is used to filter elements from an iterable based on some condition. Example: l1\n",
        "=[-1,-2,3,4,5] list(filter(lambda x: x<0,l1))\n",
        "#output: [-1,-2]\n",
        "\n",
        "\n"
      ],
      "metadata": {
        "id": "MhJhHTYLrrSU"
      }
    },
    {
      "cell_type": "code",
      "source": [
        "#11## Using pen and paper write internal mechanism for sum operation using reduce function on\n",
        "from functools import reduce\n",
        "nums = [47, 11, 42, 13]\n",
        "reduce(lambda a, b: a + b, nums)\n",
        "from google.colab import files\n",
        "uploaded = files.upload()\n"
      ],
      "metadata": {
        "colab": {
          "base_uri": "https://localhost:8080/",
          "height": 73
        },
        "id": "uec0k_BMwQjx",
        "outputId": "8e0a7ef0-86b0-4c77-a9f9-df9b49a69d55"
      },
      "execution_count": 13,
      "outputs": [
        {
          "output_type": "display_data",
          "data": {
            "text/plain": [
              "<IPython.core.display.HTML object>"
            ],
            "text/html": [
              "\n",
              "     <input type=\"file\" id=\"files-03a84dfd-8814-44ec-a5cb-39a28693c981\" name=\"files[]\" multiple disabled\n",
              "        style=\"border:none\" />\n",
              "     <output id=\"result-03a84dfd-8814-44ec-a5cb-39a28693c981\">\n",
              "      Upload widget is only available when the cell has been executed in the\n",
              "      current browser session. Please rerun this cell to enable.\n",
              "      </output>\n",
              "      <script>// Copyright 2017 Google LLC\n",
              "//\n",
              "// Licensed under the Apache License, Version 2.0 (the \"License\");\n",
              "// you may not use this file except in compliance with the License.\n",
              "// You may obtain a copy of the License at\n",
              "//\n",
              "//      http://www.apache.org/licenses/LICENSE-2.0\n",
              "//\n",
              "// Unless required by applicable law or agreed to in writing, software\n",
              "// distributed under the License is distributed on an \"AS IS\" BASIS,\n",
              "// WITHOUT WARRANTIES OR CONDITIONS OF ANY KIND, either express or implied.\n",
              "// See the License for the specific language governing permissions and\n",
              "// limitations under the License.\n",
              "\n",
              "/**\n",
              " * @fileoverview Helpers for google.colab Python module.\n",
              " */\n",
              "(function(scope) {\n",
              "function span(text, styleAttributes = {}) {\n",
              "  const element = document.createElement('span');\n",
              "  element.textContent = text;\n",
              "  for (const key of Object.keys(styleAttributes)) {\n",
              "    element.style[key] = styleAttributes[key];\n",
              "  }\n",
              "  return element;\n",
              "}\n",
              "\n",
              "// Max number of bytes which will be uploaded at a time.\n",
              "const MAX_PAYLOAD_SIZE = 100 * 1024;\n",
              "\n",
              "function _uploadFiles(inputId, outputId) {\n",
              "  const steps = uploadFilesStep(inputId, outputId);\n",
              "  const outputElement = document.getElementById(outputId);\n",
              "  // Cache steps on the outputElement to make it available for the next call\n",
              "  // to uploadFilesContinue from Python.\n",
              "  outputElement.steps = steps;\n",
              "\n",
              "  return _uploadFilesContinue(outputId);\n",
              "}\n",
              "\n",
              "// This is roughly an async generator (not supported in the browser yet),\n",
              "// where there are multiple asynchronous steps and the Python side is going\n",
              "// to poll for completion of each step.\n",
              "// This uses a Promise to block the python side on completion of each step,\n",
              "// then passes the result of the previous step as the input to the next step.\n",
              "function _uploadFilesContinue(outputId) {\n",
              "  const outputElement = document.getElementById(outputId);\n",
              "  const steps = outputElement.steps;\n",
              "\n",
              "  const next = steps.next(outputElement.lastPromiseValue);\n",
              "  return Promise.resolve(next.value.promise).then((value) => {\n",
              "    // Cache the last promise value to make it available to the next\n",
              "    // step of the generator.\n",
              "    outputElement.lastPromiseValue = value;\n",
              "    return next.value.response;\n",
              "  });\n",
              "}\n",
              "\n",
              "/**\n",
              " * Generator function which is called between each async step of the upload\n",
              " * process.\n",
              " * @param {string} inputId Element ID of the input file picker element.\n",
              " * @param {string} outputId Element ID of the output display.\n",
              " * @return {!Iterable<!Object>} Iterable of next steps.\n",
              " */\n",
              "function* uploadFilesStep(inputId, outputId) {\n",
              "  const inputElement = document.getElementById(inputId);\n",
              "  inputElement.disabled = false;\n",
              "\n",
              "  const outputElement = document.getElementById(outputId);\n",
              "  outputElement.innerHTML = '';\n",
              "\n",
              "  const pickedPromise = new Promise((resolve) => {\n",
              "    inputElement.addEventListener('change', (e) => {\n",
              "      resolve(e.target.files);\n",
              "    });\n",
              "  });\n",
              "\n",
              "  const cancel = document.createElement('button');\n",
              "  inputElement.parentElement.appendChild(cancel);\n",
              "  cancel.textContent = 'Cancel upload';\n",
              "  const cancelPromise = new Promise((resolve) => {\n",
              "    cancel.onclick = () => {\n",
              "      resolve(null);\n",
              "    };\n",
              "  });\n",
              "\n",
              "  // Wait for the user to pick the files.\n",
              "  const files = yield {\n",
              "    promise: Promise.race([pickedPromise, cancelPromise]),\n",
              "    response: {\n",
              "      action: 'starting',\n",
              "    }\n",
              "  };\n",
              "\n",
              "  cancel.remove();\n",
              "\n",
              "  // Disable the input element since further picks are not allowed.\n",
              "  inputElement.disabled = true;\n",
              "\n",
              "  if (!files) {\n",
              "    return {\n",
              "      response: {\n",
              "        action: 'complete',\n",
              "      }\n",
              "    };\n",
              "  }\n",
              "\n",
              "  for (const file of files) {\n",
              "    const li = document.createElement('li');\n",
              "    li.append(span(file.name, {fontWeight: 'bold'}));\n",
              "    li.append(span(\n",
              "        `(${file.type || 'n/a'}) - ${file.size} bytes, ` +\n",
              "        `last modified: ${\n",
              "            file.lastModifiedDate ? file.lastModifiedDate.toLocaleDateString() :\n",
              "                                    'n/a'} - `));\n",
              "    const percent = span('0% done');\n",
              "    li.appendChild(percent);\n",
              "\n",
              "    outputElement.appendChild(li);\n",
              "\n",
              "    const fileDataPromise = new Promise((resolve) => {\n",
              "      const reader = new FileReader();\n",
              "      reader.onload = (e) => {\n",
              "        resolve(e.target.result);\n",
              "      };\n",
              "      reader.readAsArrayBuffer(file);\n",
              "    });\n",
              "    // Wait for the data to be ready.\n",
              "    let fileData = yield {\n",
              "      promise: fileDataPromise,\n",
              "      response: {\n",
              "        action: 'continue',\n",
              "      }\n",
              "    };\n",
              "\n",
              "    // Use a chunked sending to avoid message size limits. See b/62115660.\n",
              "    let position = 0;\n",
              "    do {\n",
              "      const length = Math.min(fileData.byteLength - position, MAX_PAYLOAD_SIZE);\n",
              "      const chunk = new Uint8Array(fileData, position, length);\n",
              "      position += length;\n",
              "\n",
              "      const base64 = btoa(String.fromCharCode.apply(null, chunk));\n",
              "      yield {\n",
              "        response: {\n",
              "          action: 'append',\n",
              "          file: file.name,\n",
              "          data: base64,\n",
              "        },\n",
              "      };\n",
              "\n",
              "      let percentDone = fileData.byteLength === 0 ?\n",
              "          100 :\n",
              "          Math.round((position / fileData.byteLength) * 100);\n",
              "      percent.textContent = `${percentDone}% done`;\n",
              "\n",
              "    } while (position < fileData.byteLength);\n",
              "  }\n",
              "\n",
              "  // All done.\n",
              "  yield {\n",
              "    response: {\n",
              "      action: 'complete',\n",
              "    }\n",
              "  };\n",
              "}\n",
              "\n",
              "scope.google = scope.google || {};\n",
              "scope.google.colab = scope.google.colab || {};\n",
              "scope.google.colab._files = {\n",
              "  _uploadFiles,\n",
              "  _uploadFilesContinue,\n",
              "};\n",
              "})(self);\n",
              "</script> "
            ]
          },
          "metadata": {}
        },
        {
          "output_type": "stream",
          "name": "stdout",
          "text": [
            "Saving 11 question.png to 11 question.png\n"
          ]
        }
      ]
    },
    {
      "cell_type": "code",
      "source": [
        "###       Practical Questions:\n"
      ],
      "metadata": {
        "id": "7i6Ea1U7yAtp"
      },
      "execution_count": null,
      "outputs": []
    },
    {
      "cell_type": "code",
      "source": [
        "##1. Write a Python function that takes a list of numbers as input and returns the sum of all even numbers in\n",
        "\n",
        "def sum_of_even_numbers(numbers):\n",
        "    even_sum = 0\n",
        "    for num in numbers:\n",
        "        if num % 2 == 0:\n",
        "            even_sum += num\n",
        "    return even_sum\n",
        "sum_of_even_numbers([2,3,5,8,9,12,13,14])"
      ],
      "metadata": {
        "colab": {
          "base_uri": "https://localhost:8080/"
        },
        "id": "sQ5D6iaXyBDW",
        "outputId": "c49a4760-9c5c-4f30-8730-7785318a4215"
      },
      "execution_count": 23,
      "outputs": [
        {
          "output_type": "execute_result",
          "data": {
            "text/plain": [
              "36"
            ]
          },
          "metadata": {},
          "execution_count": 23
        }
      ]
    },
    {
      "cell_type": "code",
      "source": [
        "2.# Create a Python function that accepts a string and returns the reverse of that string...\n",
        "\n",
        "def reverse_string(string):\n",
        "    return string[::-1]\n",
        "reverse_string(\"Hello\")"
      ],
      "metadata": {
        "colab": {
          "base_uri": "https://localhost:8080/",
          "height": 35
        },
        "id": "4-Uqp6yayBM1",
        "outputId": "ffacbec8-98b0-4b45-dc3b-0df3b1bfd8fe"
      },
      "execution_count": 25,
      "outputs": [
        {
          "output_type": "execute_result",
          "data": {
            "text/plain": [
              "'olleH'"
            ],
            "application/vnd.google.colaboratory.intrinsic+json": {
              "type": "string"
            }
          },
          "metadata": {},
          "execution_count": 25
        }
      ]
    },
    {
      "cell_type": "code",
      "source": [
        "3. ## Implement a Python function that takes a list of integers and returns a new list containing the squares of\n",
        "def sq_of_int(integers):\n",
        "    return [integers**2 for integers in integers]\n",
        "sq_of_int([2,5,7,9,11])"
      ],
      "metadata": {
        "colab": {
          "base_uri": "https://localhost:8080/"
        },
        "id": "3uQw9wmcyBTC",
        "outputId": "8a4279ae-9bb3-4e7b-f678-9985e04c1c06"
      },
      "execution_count": 29,
      "outputs": [
        {
          "output_type": "execute_result",
          "data": {
            "text/plain": [
              "[4, 25, 49, 81, 121]"
            ]
          },
          "metadata": {},
          "execution_count": 29
        }
      ]
    },
    {
      "cell_type": "code",
      "source": [
        "4. ## Write a Python function that checks if a given number is prime or not from 1 to 200.\n",
        "\n",
        "def is_prime_num(n):\n",
        "    if n <= 1:\n",
        "        return False\n",
        "    for i in range(2,int(n**0.5)+1):\n",
        "      if n%i==0:\n",
        "        return False\n",
        "      return True\n",
        "is_prime_num(197)"
      ],
      "metadata": {
        "colab": {
          "base_uri": "https://localhost:8080/"
        },
        "id": "cmCdjVLjyBaR",
        "outputId": "e8527be3-4aea-47e7-90f4-b5778b8255bb"
      },
      "execution_count": 60,
      "outputs": [
        {
          "output_type": "execute_result",
          "data": {
            "text/plain": [
              "True"
            ]
          },
          "metadata": {},
          "execution_count": 60
        }
      ]
    },
    {
      "cell_type": "code",
      "source": [
        "5. ###Create an iterator class in Python that generates the Fibonacci sequence up to a specified number of\n",
        "##  terms\n",
        "def fib_generator():\n",
        "    a, b = 0, 1\n",
        "    while True:\n",
        "        yield a\n",
        "        a, b = b, a + b\n",
        "\n",
        "# Generate first 10 Fibonacci numbers\n",
        "gen = fib_generator()\n",
        "for i in range(10):\n",
        "    print(next(gen))\n",
        "\n",
        "\n"
      ],
      "metadata": {
        "colab": {
          "base_uri": "https://localhost:8080/"
        },
        "id": "q2zznQsRyBjv",
        "outputId": "8c0666bb-78f8-4089-9419-09b70f9dea6b"
      },
      "execution_count": 69,
      "outputs": [
        {
          "output_type": "stream",
          "name": "stdout",
          "text": [
            "0\n",
            "1\n",
            "1\n",
            "2\n",
            "3\n",
            "5\n",
            "8\n",
            "13\n",
            "21\n",
            "34\n"
          ]
        }
      ]
    },
    {
      "cell_type": "code",
      "source": [
        "#6 Write a generator function that yields the power of 2 upto a given exponent.\n",
        "\n",
        "def power_of_two(n):\n",
        "  for i in range(0,n):\n",
        "    yield 2**i\n",
        "\n",
        "for i in power_of_two(6):\n",
        "  print(i)"
      ],
      "metadata": {
        "colab": {
          "base_uri": "https://localhost:8080/"
        },
        "id": "WnJGrZz-3DWS",
        "outputId": "4b7f1eac-e66f-41bf-e6e3-3fd7f2322d9c"
      },
      "execution_count": 71,
      "outputs": [
        {
          "output_type": "stream",
          "name": "stdout",
          "text": [
            "1\n",
            "2\n",
            "4\n",
            "8\n",
            "16\n",
            "32\n"
          ]
        }
      ]
    },
    {
      "cell_type": "code",
      "source": [
        "## 7. Implement a generator function that reads a file line by line and yields each line as a string.\n",
        "\n",
        "def read_file_line_by_line(file_path):\n",
        "    with open(file_path, 'r') as file:\n",
        "        for line in file:\n",
        "            yield line.strip()\n"
      ],
      "metadata": {
        "id": "Y-YA1HsP3De-"
      },
      "execution_count": 73,
      "outputs": []
    },
    {
      "cell_type": "code",
      "source": [
        "## 8. Use a lambda function in Python to sort a list of tuples based on the second element of each tuple.\n",
        "\n",
        "data = [(1, 5), (3, 2), (2, 8), (5, 1)]\n",
        "sorted_data = sorted(data, key=lambda x: x[1])\n",
        "print(sorted_data)"
      ],
      "metadata": {
        "colab": {
          "base_uri": "https://localhost:8080/"
        },
        "id": "d-_ZD0w13Dl5",
        "outputId": "6de54c0e-6305-45e6-e535-013ea305a42e"
      },
      "execution_count": 74,
      "outputs": [
        {
          "output_type": "stream",
          "name": "stdout",
          "text": [
            "[(5, 1), (3, 2), (1, 5), (2, 8)]\n"
          ]
        }
      ]
    },
    {
      "cell_type": "code",
      "source": [
        "#9 Write a python program that uses 'map()' to convert a list of temperature␣from Celsius to Fahrenheit.\n",
        "temp_in_Celsius = [30,45,60,97]\n",
        "temp_in_Fahrenheit = list(map(lambda Celsius : Celsius*9/5+32,temp_in_Celsius))\n",
        "print(temp_in_Fahrenheit)"
      ],
      "metadata": {
        "colab": {
          "base_uri": "https://localhost:8080/"
        },
        "id": "Mr2-YUsn3DsS",
        "outputId": "f82852e7-5421-4846-9694-298cb93cd21b"
      },
      "execution_count": 75,
      "outputs": [
        {
          "output_type": "stream",
          "name": "stdout",
          "text": [
            "[86.0, 113.0, 140.0, 206.6]\n"
          ]
        }
      ]
    },
    {
      "cell_type": "code",
      "source": [
        "## 10 Create a python program that uses 'filter()' to remove all the vowels from a given string.\n",
        "s = \"cheminformatics\"\n",
        "vowels = 'aeiouAEIOU'\n",
        "l= filter(lambda char: char in vowels,s)\n",
        "print(list(l))\n"
      ],
      "metadata": {
        "colab": {
          "base_uri": "https://localhost:8080/"
        },
        "id": "86C-mOpi3Dyx",
        "outputId": "afb1f21a-1ac3-41e3-d516-dbb29e45276e"
      },
      "execution_count": 76,
      "outputs": [
        {
          "output_type": "stream",
          "name": "stdout",
          "text": [
            "['e', 'i', 'o', 'a', 'i']\n"
          ]
        }
      ]
    },
    {
      "cell_type": "code",
      "source": [
        "### 11) Imagine an accounting routine used in a book shop. It works on a list with sublists, which look like this:\n",
        "\n",
        "\n",
        "\n",
        "orders = [\n",
        "    [34587, \"Learning Python, Mark Lutz\", 4, 40.95],\n",
        "    [98762, \"Programming Python, Mark Lutz\", 5, 56.80],\n",
        "    [77226, \"Head First Python, Paul Barry\", 3, 32.95],\n",
        "    [88112, \"Einführung in Python3, Bernd Klein\", 3, 24.99]\n",
        "]\n",
        "\n",
        "# Using lambda and map to calculate final list\n",
        "final_orders = list(map(lambda order: (\n",
        "    order[0],\n",
        "    round(order[2] * order[3] if order[2] * order[3] >= 100 else order[2] * order[3] + 10, 2)\n",
        "), orders))\n",
        "\n",
        "print(final_orders)\n"
      ],
      "metadata": {
        "colab": {
          "base_uri": "https://localhost:8080/"
        },
        "id": "QUiK22dZ3EC5",
        "outputId": "4f814ef1-8023-49aa-c6a0-80045304c664"
      },
      "execution_count": 79,
      "outputs": [
        {
          "output_type": "stream",
          "name": "stdout",
          "text": [
            "[(34587, 163.8), (98762, 284.0), (77226, 108.85), (88112, 84.97)]\n"
          ]
        }
      ]
    }
  ]
}